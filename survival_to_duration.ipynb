{
  "nbformat": 4,
  "nbformat_minor": 0,
  "metadata": {
    "colab": {
      "provenance": []
    },
    "kernelspec": {
      "name": "python3",
      "display_name": "Python 3"
    },
    "language_info": {
      "name": "python"
    }
  },
  "cells": [
    {
      "cell_type": "code",
      "source": [
        "user=int(input('Enter User age: '))\n",
        "\n",
        "month=user*12\n",
        "week=user*52\n",
        "days=user*365\n",
        "hours=user*8760\n",
        "minutes=user*525600\n",
        "seconds=user*31536000\n",
        "\n",
        "\n",
        "print('User age in Month is: ',month)\n",
        "print('User age in Weeks is: ',week)\n",
        "print('User age in Days is: ',days)\n",
        "print('User age in Hours is: ',hours)\n",
        "print('User age in Minutes is: ',minutes)\n",
        "print('User age in Seconds is: ',seconds)"
      ],
      "metadata": {
        "colab": {
          "base_uri": "https://localhost:8080/"
        },
        "id": "UczkoJtP0LsP",
        "outputId": "9e58ab15-52b9-482f-9c36-2de8bee3aa25"
      },
      "execution_count": 6,
      "outputs": [
        {
          "output_type": "stream",
          "name": "stdout",
          "text": [
            "Enter User age: 5\n",
            "User age in Month is:  60\n",
            "User age in Weeks is:  260\n",
            "User age in Days is:  1825\n",
            "User age in Hours is:  43800\n",
            "User age in Minutes is:  2628000\n",
            "User age in Seconds is:  157680000\n"
          ]
        }
      ]
    },
    {
      "cell_type": "code",
      "source": [],
      "metadata": {
        "id": "V8YTp6T60kvT"
      },
      "execution_count": null,
      "outputs": []
    }
  ]
}